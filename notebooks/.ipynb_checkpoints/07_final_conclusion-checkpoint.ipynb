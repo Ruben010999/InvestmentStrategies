{
 "cells": [
  {
   "cell_type": "markdown",
   "id": "826929b7-0bc1-4874-b9ae-4e5039e088b6",
   "metadata": {},
   "source": [
    "# Final Summary — Comparative Evaluation of Investment Strategies (2015–2025)\n",
    "\n",
    "This project systematically explored and compared multiple portfolio construction and trading strategies using a consistent data universe of equities and ETFs over the 2015–2025 period. The analysis evolved progressively from foundational approaches such as Buy & Hold and Equal-Weight allocation to more advanced frameworks, including momentum, mean reversion, volatility targeting, and risk parity. The purpose was to evaluate how these strategies behave under different market conditions, balancing long-term growth, risk-adjusted returns, and drawdown resilience.\n",
    "\n",
    "Across all experiments, results were evaluated using standard performance metrics: Compound Annual Growth Rate (CAGR), volatility (annualized standard deviation), Sharpe ratio (risk-adjusted return), and maximum drawdown (peak-to-trough loss). Commissions were accounted for, but taxes and leverage effects were excluded to focus purely on strategic efficiency.\n",
    "\n",
    "## Core Findings\n",
    "\n",
    "### 1. Buy & Hold (Equal Weight)\n",
    "The equal-weight Buy & Hold benchmark consistently delivered the highest raw returns across the test period, with a CAGR around 20–21% and a Sharpe ratio near 0.94. However, this performance came at the cost of high volatility (≈23%) and deep drawdowns (≈−31%). The strategy thrives in prolonged bull markets but remains fully exposed during crises. It serves as an essential benchmark for all subsequent strategies, representing the risk/return trade-off of passive exposure to growth assets.\n",
    "\n",
    "### 2. Momentum-Based Strategies\n",
    "The 12-month momentum model (12M–1 LKB252) closely matched the Buy & Hold benchmark in Sharpe ratio while demonstrating slightly lower volatility and equivalent drawdowns. This confirms the robustness of cross-sectional momentum in capturing persistent market trends while avoiding extreme exposures during corrections. When combined with volatility targeting, the 12M–1 model achieved substantial improvements in stability, reducing volatility from ~20% to ~12% and drawdowns from −31% to −16%, while maintaining a CAGR around 14–15%. The resulting Sharpe ratio exceeded 1.14, marking it as the most balanced and efficient of all tested models. This variant effectively combines trend-following adaptability with disciplined risk control, providing smoother compounding over time.\n",
    "\n",
    "### 3. Volatility Targeting\n",
    "Applying volatility targeting across both Buy & Hold and momentum strategies had a pronounced stabilizing effect. Setting a target volatility of approximately 12% (with a 60-day estimation window and leverage cap of 1.5×) substantially improved return efficiency and drawdown control. Volatility-targeted portfolios maintained smoother NAV trajectories, narrower dispersion across market regimes, and nearly doubled risk-adjusted performance compared to their raw counterparts. Sensitivity analysis showed that shorter estimation windows (40–60 days) and moderate targets (10–12%) yielded optimal Sharpe ratios, confirming that responsive but not overly reactive risk control produces the most reliable outcomes.\n",
    "\n",
    "### 4. Mean Reversion\n",
    "The mean reversion strategy significantly underperformed during the predominantly trending market regime of 2015–2025. Its Sharpe ratio (~0.27) and CAGR (~3.2%) were markedly below those of both Buy & Hold and momentum models, while its maximum drawdown (−37%) was the deepest of all. The result highlights the structural disadvantage of contrarian mean-reversion logic during long upward trends, as premature entries and exits lead to excessive turnover and transaction drag. This approach may become relevant only in range-bound or mean-reverting macro environments, which were largely absent in the examined decade.\n",
    "\n",
    "### 5. Risk Parity\n",
    "The risk parity framework allocated capital such that each asset contributed an equal share to total portfolio risk. Tested with multiple covariance estimation windows (126, 252, and 504 days), performance proved stable, with Sharpe ratios near 0.98 and CAGR around 15%. While its absolute returns were slightly below those of the equal-weight benchmark, risk parity achieved meaningfully lower volatility (≈15%) and reduced drawdowns (≈−22%), confirming its effectiveness as a volatility-smoothing mechanism. The strategy performs best in multi-asset universes with low correlations among equities, bonds, and commodities, where diversification effects can manifest more fully. In a correlated equity-only setting, its role is primarily defensive rather than return-enhancing.\n",
    "\n",
    "### 6. Multi-Strategy Portfolios\n",
    "When individual strategies were aggregated into equal-weight composites—combining Buy & Hold, momentum (raw and volatility-targeted), and risk parity—the resulting portfolios exhibited higher stability and improved overall Sharpe ratios. The equal-weighted blend across strategies achieved Sharpe ≈1.09 with moderate volatility (~15.6%) and drawdowns of about −23%. The risk-parity blend maintained comparable risk efficiency with slightly lower CAGR, demonstrating that cross-strategy diversification provides a tangible benefit. The volatility-targeted momentum model remained the dominant contributor to overall risk-adjusted performance.\n",
    "\n",
    "## Comparative Evaluation\n",
    "\n",
    "| Strategy | Sharpe (≈) | CAGR (%) | Volatility (%) | Max Drawdown (%) | Key Characteristics |\n",
    "|-----------|-------------|-----------|----------------|------------------|----------------------|\n",
    "| Buy & Hold (Equal Weight) | 0.94 | 20.9 | 22.9 | −30.9 | Highest absolute return, fully exposed to market risk |\n",
    "| 12M–1 Momentum (raw) | 0.93 | 18.9 | 20.9 | −30.9 | Similar return with slightly lower volatility |\n",
    "| 12M–1 Momentum (Vol-Targeted) | 1.14 | 14.3 | 12.4 | −15.9 | Most efficient risk-adjusted profile |\n",
    "| Risk Parity | 0.98 | 15.0 | 15.4 | −22.7 | Smoother returns, defensive structure |\n",
    "| Equal-Weight (All Strategies) | 1.09 | 17.0 | 15.6 | −23.5 | Balanced composite of models |\n",
    "| Mean Reversion | 0.27 | 3.2 | 15.9 | −37.2 | Ineffective in trending markets |\n",
    "\n",
    "## Interpretation and Conclusions\n",
    "\n",
    "Over the past decade, global equity markets displayed persistent upward trends punctuated by short-lived corrections, favoring momentum-driven and trend-following frameworks. The momentum model, particularly when volatility-targeted, delivered the best risk-adjusted outcomes and maintained consistent performance through varying volatility regimes. The Buy & Hold approach produced the highest nominal gains but suffered from deeper drawdowns and higher volatility, underscoring its vulnerability during market stress. Risk parity offered smoother growth and meaningful volatility reduction, validating its role as a stabilizing allocation method rather than a return-maximizing strategy. Mean reversion, in contrast, proved ineffective in the given macro regime, emphasizing that strategic suitability depends heavily on prevailing market dynamics.\n",
    "\n",
    "The combination of momentum-based allocation and volatility targeting stands out as the most robust framework for long-term portfolio management. It balances adaptability, drawdown control, and compounding efficiency, maintaining exposure to favorable market trends while systematically moderating risk. Risk parity serves as a complementary defensive layer for diversification and regime balance, particularly when extended to multi-asset universes. \n",
    "\n",
    "Overall, the empirical results confirm that adaptive risk control mechanisms—especially volatility targeting—significantly enhance portfolio robustness without requiring excessive complexity. In contrast, static or contrarian frameworks offer limited advantage in sustained trend environments. The most effective investment architecture integrates dynamic momentum exposure, risk-based scaling, and cross-strategy diversification, achieving superior stability and efficiency over traditional static portfolios.\n"
   ]
  }
 ],
 "metadata": {
  "kernelspec": {
   "display_name": "Python (pydata-book)",
   "language": "python",
   "name": "pydata-book"
  },
  "language_info": {
   "codemirror_mode": {
    "name": "ipython",
    "version": 3
   },
   "file_extension": ".py",
   "mimetype": "text/x-python",
   "name": "python",
   "nbconvert_exporter": "python",
   "pygments_lexer": "ipython3",
   "version": "3.13.5"
  }
 },
 "nbformat": 4,
 "nbformat_minor": 5
}
